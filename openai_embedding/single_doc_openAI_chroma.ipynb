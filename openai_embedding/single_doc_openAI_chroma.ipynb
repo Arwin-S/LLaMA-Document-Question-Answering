{
 "cells": [
  {
   "attachments": {},
   "cell_type": "markdown",
   "metadata": {},
   "source": [
    "Setup API Key"
   ]
  },
  {
   "cell_type": "code",
   "execution_count": 8,
   "metadata": {},
   "outputs": [],
   "source": [
    "from getpass import getpass\n",
    "import os\n",
    "OPENAI_API_KEY = getpass()\n",
    "os.environ[\"OPENAI_API_KEY\"] = OPENAI_API_KEY"
   ]
  },
  {
   "attachments": {},
   "cell_type": "markdown",
   "metadata": {},
   "source": [
    "Query"
   ]
  },
  {
   "cell_type": "code",
   "execution_count": 75,
   "metadata": {},
   "outputs": [],
   "source": [
    "query = \"What is DeMorgan's Theorem?\""
   ]
  },
  {
   "attachments": {},
   "cell_type": "markdown",
   "metadata": {},
   "source": [
    "Imports"
   ]
  },
  {
   "cell_type": "code",
   "execution_count": 62,
   "metadata": {},
   "outputs": [],
   "source": [
    "from langchain.embeddings import OpenAIEmbeddings\n",
    "from langchain.document_loaders import PyPDFLoader\n",
    "from langchain.text_splitter import RecursiveCharacterTextSplitter\n",
    "from langchain.vectorstores import Chroma\n",
    "from langchain.llms import OpenAI\n",
    "from langchain.chains.question_answering import load_qa_chain\n",
    "from langchain.chains import RetrievalQA\n",
    "from langchain.callbacks.manager import CallbackManager\n",
    "from langchain.callbacks.streaming_stdout import StreamingStdOutCallbackHandler"
   ]
  },
  {
   "attachments": {},
   "cell_type": "markdown",
   "metadata": {},
   "source": [
    "Embedd File into Documents"
   ]
  },
  {
   "cell_type": "code",
   "execution_count": 74,
   "metadata": {},
   "outputs": [
    {
     "name": "stderr",
     "output_type": "stream",
     "text": [
      "Using embedded DuckDB with persistence: data will be stored in: ../chroma_index\n",
      "Retrying langchain.embeddings.openai.embed_with_retry.<locals>._embed_with_retry in 4.0 seconds as it raised APIConnectionError: Error communicating with OpenAI: ('Connection aborted.', ConnectionResetError(104, 'Connection reset by peer')).\n"
     ]
    }
   ],
   "source": [
    "loader = PyPDFLoader(\"../docs/brown_241.pdf\")\n",
    "pages = loader.load_and_split(\n",
    "    text_splitter=RecursiveCharacterTextSplitter(\n",
    "        chunk_size = 800,\n",
    "        chunk_overlap = 20,\n",
    "        length_function = len,\n",
    "    )\n",
    ")\n",
    "\n",
    "embeddings = OpenAIEmbeddings()\n",
    "chroma_index = Chroma.from_documents(pages, embeddings, persist_directory=\"../chroma_index\")\n",
    "chroma_index.persist()"
   ]
  },
  {
   "attachments": {},
   "cell_type": "markdown",
   "metadata": {},
   "source": [
    "Search & Fetch Documents for Best Match to Query"
   ]
  },
  {
   "cell_type": "code",
   "execution_count": 77,
   "metadata": {},
   "outputs": [
    {
     "name": "stderr",
     "output_type": "stream",
     "text": [
      "Using embedded DuckDB with persistence: data will be stored in: ../chroma_index\n"
     ]
    },
    {
     "name": "stdout",
     "output_type": "stream",
     "text": [
      "2.5 Boolean Algebra 35\n",
      "10a.x·y=y·x Commutative\n",
      "10b.x+y=y+x\n",
      "11a.x·(y·z)=(x·y)·z Associative\n",
      "11b.x+(y+z)=(x+y)+z\n",
      "12a.x·(y+z)=x·y+x·z Distributive\n",
      "12b.x+y·z=(x+y)·(x+z)\n",
      "13a.x+x·y=x Absorption\n",
      "13b.x·(x+y)=x\n",
      "14a.x·y+x· y=x Combining\n",
      "14b.(x+y)·(x+ y)=x\n",
      "15a. x·y= x+y DeMorgan’ s theorem\n",
      "15b. x+y= x·y\n",
      "16a.x+ x·y=x+y\n",
      "16b.x·( x+y)=x·y\n",
      "17a.x·y+y·z+ x·z=x·y+ x·z Consensus\n",
      "17b.(x+y)·(y+z)·( x+z)=(x+y)·( x+z)\n",
      "Again, we can prove the validity of these properties either by perfect induction or by\n",
      "performing algebraic manipulation. Figure 2.13 illustrates how perfect induction can be\n",
      "used to prove DeMorgan’s theorem, using the format of a truth table. The evaluation of\n",
      "left-hand and right-hand sides of the identity in 15agives the same result.\n",
      "then we should ask whether these gates can be used directly in the synthesis of logic circuits.\n",
      "In Section 2.5 we introduced DeMorgan’s theorem. Its logic gate interpretation is shown in\n",
      "Figure 2.26. Identity 15ais interpreted in part (a) of theﬁgure. It speciﬁes that a NAND of\n",
      "variablesx 1andx 2is equivalent toﬁrst complementing each of the variables and then ORing\n",
      "them. Notice on the far-right side that we have indicated the NOT gates simply as bubbles,\n",
      "which denote inversion of the logic value at that point. The other half of DeMorgan’s\n",
      "theorem, identity 15b, appears in part (b) of theﬁgure. It states that the NOR function is\n",
      "equivalent toﬁrst inverting the input variables and then ANDing them.\n"
     ]
    }
   ],
   "source": [
    "chroma_index_loaded = Chroma(persist_directory=\"../chroma_index\", embedding_function=embeddings)\n",
    "doc = chroma_index_loaded.similarity_search(query, k=2)\n",
    "for d in doc:\n",
    "    print(d.page_content)"
   ]
  },
  {
   "attachments": {},
   "cell_type": "markdown",
   "metadata": {},
   "source": [
    "Query LLM given returned document"
   ]
  },
  {
   "cell_type": "code",
   "execution_count": 78,
   "metadata": {},
   "outputs": [
    {
     "data": {
      "text/plain": [
       "\" DeMorgan's Theorem states that x·y= x+y and x+y= x·y.\""
      ]
     },
     "execution_count": 78,
     "metadata": {},
     "output_type": "execute_result"
    }
   ],
   "source": [
    "chain = load_qa_chain(llm=OpenAI(), chain_type=\"stuff\")\n",
    "chain.run(input_documents=doc, llm=OpenAI(), question=query)\n",
    "\n",
    "# chain = qa = RetrievalQA.from_chain_type(llm=OpenAI(), chain_type=\"stuff\", retriever=doc.as_retriever())\n",
    "# qa.run(query)"
   ]
  },
  {
   "cell_type": "code",
   "execution_count": 79,
   "metadata": {},
   "outputs": [
    {
     "name": "stderr",
     "output_type": "stream",
     "text": [
      "llama.cpp: loading model from ../models/ggml-vic13b-q5_1.bin\n",
      "llama_model_load_internal: format     = ggjt v1 (latest)\n",
      "llama_model_load_internal: n_vocab    = 32000\n",
      "llama_model_load_internal: n_ctx      = 2048\n",
      "llama_model_load_internal: n_embd     = 5120\n",
      "llama_model_load_internal: n_mult     = 256\n",
      "llama_model_load_internal: n_head     = 40\n",
      "llama_model_load_internal: n_layer    = 40\n",
      "llama_model_load_internal: n_rot      = 128\n",
      "llama_model_load_internal: ftype      = 9 (mostly Q5_1)\n",
      "llama_model_load_internal: n_ff       = 13824\n",
      "llama_model_load_internal: n_parts    = 1\n",
      "llama_model_load_internal: model size = 13B\n",
      "llama_model_load_internal: ggml ctx size =  85.08 KB\n",
      "llama_model_load_internal: mem required  = 11359.04 MB (+ 1608.00 MB per state)\n",
      "llama_init_from_file: kv self size  = 1600.00 MB\n",
      "AVX = 1 | AVX2 = 1 | AVX512 = 0 | AVX512_VBMI = 0 | AVX512_VNNI = 0 | FMA = 1 | NEON = 0 | ARM_FMA = 0 | F16C = 1 | FP16_VA = 0 | WASM_SIMD = 0 | BLAS = 0 | SSE3 = 1 | VSX = 0 | \n"
     ]
    },
    {
     "name": "stdout",
     "output_type": "stream",
     "text": [
      " DeMorgan's theorem is an important result in Boolean algebra that states that the negation of a logical OR operation is equivalent to a logical AND operation of the negations, and vice versa. This is expressed mathematically as the identities 15a and 15b in the text: x ⊕ y = (¬x ∧ ¬y) and ¬(x ⊕ y) = (¬x ∧ ¬y). These identities have important implications for the design of digital circuits, as they provide a way to simplify complex logical expressions."
     ]
    },
    {
     "data": {
      "text/plain": [
       "\" DeMorgan's theorem is an important result in Boolean algebra that states that the negation of a logical OR operation is equivalent to a logical AND operation of the negations, and vice versa. This is expressed mathematically as the identities 15a and 15b in the text: x ⊕ y = (¬x ∧ ¬y) and ¬(x ⊕ y) = (¬x ∧ ¬y). These identities have important implications for the design of digital circuits, as they provide a way to simplify complex logical expressions.\""
      ]
     },
     "execution_count": 79,
     "metadata": {},
     "output_type": "execute_result"
    }
   ],
   "source": [
    "from langchain.llms import LlamaCpp\n",
    "\n",
    "callback_manager = CallbackManager([StreamingStdOutCallbackHandler()])\n",
    "\n",
    "chain = load_qa_chain(llm = LlamaCpp(model_path=\"../models/ggml-vic13b-q5_1.bin\",\n",
    "                                    callback_manager=callback_manager, verbose=True, n_ctx=2048),\n",
    "                                 chain_type=\"stuff\")\n",
    "\n",
    "chain.run(input_documents=doc, question=query)"
   ]
  }
 ],
 "metadata": {
  "kernelspec": {
   "display_name": "Python 3",
   "language": "python",
   "name": "python3"
  },
  "language_info": {
   "codemirror_mode": {
    "name": "ipython",
    "version": 3
   },
   "file_extension": ".py",
   "mimetype": "text/x-python",
   "name": "python",
   "nbconvert_exporter": "python",
   "pygments_lexer": "ipython3",
   "version": "3.8.10"
  },
  "orig_nbformat": 4
 },
 "nbformat": 4,
 "nbformat_minor": 2
}
